{
 "cells": [
  {
   "cell_type": "code",
   "execution_count": 40,
   "id": "8e85cf9e-e1f2-452d-a7a0-51a303fd6236",
   "metadata": {},
   "outputs": [
    {
     "name": "stdout",
     "output_type": "stream",
     "text": [
      "True\n"
     ]
    }
   ],
   "source": [
    "import weaviate\n",
    "from weaviate.collections.classes.config import DataType, Configure, Property\n",
    "import weaviate.classes as wvc\n",
    "client = weaviate.connect_to_local()\n",
    "\n",
    "print(client.is_ready())"
   ]
  },
  {
   "cell_type": "code",
   "execution_count": 52,
   "id": "687d38dd-058b-4964-8923-0297783df02b",
   "metadata": {},
   "outputs": [],
   "source": [
    "import ollama\n",
    "import json"
   ]
  },
  {
   "cell_type": "code",
   "execution_count": 56,
   "id": "f4e691ec-5735-4370-adb2-3b9ff0157084",
   "metadata": {},
   "outputs": [],
   "source": [
    "data = [{\"Category\":\"SCIENCE\",\"Question\":\"This organ removes excess glucose from the blood & stores it as glycogen\",\"Answer\":\"Liver\"},{\"Category\":\"ANIMALS\",\"Question\":\"It's the only living mammal in the order Proboseidea\",\"Answer\":\"Elephant\"},{\"Category\":\"ANIMALS\",\"Question\":\"The gavial looks very much like a crocodile except for this bodily feature\",\"Answer\":\"the nose or snout\"},{\"Category\":\"ANIMALS\",\"Question\":\"Weighing around a ton, the eland is the largest species of this animal in Africa\",\"Answer\":\"Antelope\"},{\"Category\":\"ANIMALS\",\"Question\":\"Heaviest of all poisonous snakes is this North American rattlesnake\",\"Answer\":\"the diamondback rattler\"},{\"Category\":\"SCIENCE\",\"Question\":\"2000 news: the Gunnison sage grouse isn't just another northern sage grouse, but a new one of this classification\",\"Answer\":\"species\"},{\"Category\":\"SCIENCE\",\"Question\":\"A metal that is ductile can be pulled into this while cold & under pressure\",\"Answer\":\"wire\"},{\"Category\":\"SCIENCE\",\"Question\":\"In 1953 Watson & Crick built a model of the molecular structure of this, the gene-carrying substance\",\"Answer\":\"DNA\"},{\"Category\":\"SCIENCE\",\"Question\":\"Changes in the tropospheric layer of this are what gives us weather\",\"Answer\":\"the atmosphere\"},{\"Category\":\"SCIENCE\",\"Question\":\"In 70-degree air, a plane traveling at about 1,130 feet per second breaks it\",\"Answer\":\"Sound barrier\"}]"
   ]
  },
  {
   "cell_type": "code",
   "execution_count": 57,
   "id": "3efcc17f-7dc2-4ce8-b8b4-b0914ddf03c3",
   "metadata": {
    "scrolled": true
   },
   "outputs": [
    {
     "data": {
      "text/plain": [
       "[{'Category': 'SCIENCE',\n",
       "  'Question': 'This organ removes excess glucose from the blood & stores it as glycogen',\n",
       "  'Answer': 'Liver'},\n",
       " {'Category': 'ANIMALS',\n",
       "  'Question': \"It's the only living mammal in the order Proboseidea\",\n",
       "  'Answer': 'Elephant'},\n",
       " {'Category': 'ANIMALS',\n",
       "  'Question': 'The gavial looks very much like a crocodile except for this bodily feature',\n",
       "  'Answer': 'the nose or snout'},\n",
       " {'Category': 'ANIMALS',\n",
       "  'Question': 'Weighing around a ton, the eland is the largest species of this animal in Africa',\n",
       "  'Answer': 'Antelope'},\n",
       " {'Category': 'ANIMALS',\n",
       "  'Question': 'Heaviest of all poisonous snakes is this North American rattlesnake',\n",
       "  'Answer': 'the diamondback rattler'},\n",
       " {'Category': 'SCIENCE',\n",
       "  'Question': \"2000 news: the Gunnison sage grouse isn't just another northern sage grouse, but a new one of this classification\",\n",
       "  'Answer': 'species'},\n",
       " {'Category': 'SCIENCE',\n",
       "  'Question': 'A metal that is ductile can be pulled into this while cold & under pressure',\n",
       "  'Answer': 'wire'},\n",
       " {'Category': 'SCIENCE',\n",
       "  'Question': 'In 1953 Watson & Crick built a model of the molecular structure of this, the gene-carrying substance',\n",
       "  'Answer': 'DNA'},\n",
       " {'Category': 'SCIENCE',\n",
       "  'Question': 'Changes in the tropospheric layer of this are what gives us weather',\n",
       "  'Answer': 'the atmosphere'},\n",
       " {'Category': 'SCIENCE',\n",
       "  'Question': 'In 70-degree air, a plane traveling at about 1,130 feet per second breaks it',\n",
       "  'Answer': 'Sound barrier'}]"
      ]
     },
     "execution_count": 57,
     "metadata": {},
     "output_type": "execute_result"
    }
   ],
   "source": [
    "data"
   ]
  },
  {
   "cell_type": "code",
   "execution_count": 61,
   "id": "4a4ca296-0b89-4889-b644-9e2d637e1db1",
   "metadata": {},
   "outputs": [],
   "source": [
    "questions = client.collections.create(\n",
    "        name=\"Questions\",\n",
    "            vectorizer_config=[\n",
    "        Configure.NamedVectors.text2vec_ollama(\n",
    "            name=\"title_vector\",\n",
    "            source_properties=[\"title\"],\n",
    "            api_endpoint=\"http://host.docker.internal:11434\",  # If using Docker, use this to contact your local Ollama instance\n",
    "            model=\"nomic-embed-text\",  # The model to use, e.g. \"nomic-embed-text\"\n",
    "        )\n",
    "    ],    \n",
    "        properties=[\n",
    "            wvc.config.Property(\n",
    "                name=\"question\",\n",
    "                data_type=wvc.config.DataType.TEXT,\n",
    "            ),\n",
    "            wvc.config.Property(\n",
    "                name=\"answer\",\n",
    "                data_type=wvc.config.DataType.TEXT,\n",
    "            ),\n",
    "            wvc.config.Property(\n",
    "                name=\"category\",\n",
    "                data_type=wvc.config.DataType.TEXT,\n",
    "            )\n",
    "        ]\n",
    "    )"
   ]
  },
  {
   "cell_type": "raw",
   "id": "7689eeb9-dd69-4709-bd31-219ccad12cee",
   "metadata": {},
   "source": [
    "for i in data:\n",
    "    #print(i['Question'])\n",
    "    i['vector'] = ollama.embeddings(model='nomic-embed-text', prompt=i['Question'])['embedding']"
   ]
  },
  {
   "cell_type": "raw",
   "id": "3de9b611-296e-4446-ad21-0eedd81abdb4",
   "metadata": {},
   "source": [
    "client.collections.delete_all()"
   ]
  },
  {
   "cell_type": "raw",
   "id": "429f60a1-7399-4081-b013-cefe51617246",
   "metadata": {
    "scrolled": true
   },
   "source": [
    "ollama.embeddings(model='nomic-embed-text', prompt='testug')['embedding']"
   ]
  },
  {
   "cell_type": "code",
   "execution_count": 62,
   "id": "1ac8eca9-fab4-47d0-bea6-5611b2d3d88a",
   "metadata": {},
   "outputs": [
    {
     "data": {
      "text/plain": [
       "<weaviate.collections.collection.sync.Collection at 0x7f84f97b67a0>"
      ]
     },
     "execution_count": 62,
     "metadata": {},
     "output_type": "execute_result"
    }
   ],
   "source": [
    "questions"
   ]
  },
  {
   "cell_type": "code",
   "execution_count": 63,
   "id": "5980e8a1-f6ae-4c2d-890c-9b96cd27f191",
   "metadata": {},
   "outputs": [],
   "source": [
    "# Prepare DataObject instances\n",
    "question_objects = [\n",
    "    wvc.data.DataObject(\n",
    "        properties={\n",
    "            \"question_text\": obj[\"Question\"],\n",
    "            \"answer\": obj[\"Answer\"],\n",
    "            \"category\": obj[\"Category\"],\n",
    "        }# Include the pre-generated vector\n",
    "    )\n",
    "    for obj in data\n",
    "]"
   ]
  },
  {
   "cell_type": "code",
   "execution_count": 64,
   "id": "f3061025-e335-45d7-b7e1-80ea41e11177",
   "metadata": {
    "scrolled": true
   },
   "outputs": [
    {
     "data": {
      "text/plain": [
       "BatchObjectReturn(_all_responses=[UUID('6b2fdb17-3735-41a8-b90f-3feed041f6f0'), UUID('cf5bc7ae-5adf-4381-b731-69c2f011abf1'), UUID('92858183-e581-409e-bd9c-868b18679eca'), UUID('b3273ca8-3456-4f39-87fb-7dfc748cde40'), UUID('6793257c-dbb7-4685-8fc0-5084c4504302'), UUID('e62b7ac6-0cc2-476b-9afd-f15270364e22'), UUID('eca9c5c4-7344-4a55-8623-84a9ffe91664'), UUID('0f8f5f86-4845-4a0d-b001-9aeef816b950'), UUID('9abd45b7-ae81-483b-a5b5-6698383d750e'), UUID('80031dc1-9a58-4095-8c7f-bc54861243a8')], elapsed_seconds=0.6143290996551514, errors={}, uuids={0: UUID('6b2fdb17-3735-41a8-b90f-3feed041f6f0'), 1: UUID('cf5bc7ae-5adf-4381-b731-69c2f011abf1'), 2: UUID('92858183-e581-409e-bd9c-868b18679eca'), 3: UUID('b3273ca8-3456-4f39-87fb-7dfc748cde40'), 4: UUID('6793257c-dbb7-4685-8fc0-5084c4504302'), 5: UUID('e62b7ac6-0cc2-476b-9afd-f15270364e22'), 6: UUID('eca9c5c4-7344-4a55-8623-84a9ffe91664'), 7: UUID('0f8f5f86-4845-4a0d-b001-9aeef816b950'), 8: UUID('9abd45b7-ae81-483b-a5b5-6698383d750e'), 9: UUID('80031dc1-9a58-4095-8c7f-bc54861243a8')}, has_errors=False)"
      ]
     },
     "execution_count": 64,
     "metadata": {},
     "output_type": "execute_result"
    }
   ],
   "source": [
    "questions.data.insert_many(question_objects)"
   ]
  },
  {
   "cell_type": "code",
   "execution_count": 65,
   "id": "e0376f06-269f-46b4-a78c-4256bcad7435",
   "metadata": {},
   "outputs": [
    {
     "name": "stdout",
     "output_type": "stream",
     "text": [
      "{\n",
      "  \"answer\": \"the atmosphere\",\n",
      "  \"question_text\": \"Changes in the tropospheric layer of this are what gives us weather\",\n",
      "  \"question\": null,\n",
      "  \"category\": \"SCIENCE\"\n",
      "}\n",
      "{\n",
      "  \"answer\": \"wire\",\n",
      "  \"question_text\": \"A metal that is ductile can be pulled into this while cold & under pressure\",\n",
      "  \"question\": null,\n",
      "  \"category\": \"SCIENCE\"\n",
      "}\n"
     ]
    }
   ],
   "source": [
    "response = questions.query.near_text(\n",
    "    query=\"biology\",\n",
    "    limit=2\n",
    ")\n",
    "\n",
    "for obj in response.objects:\n",
    "    print(json.dumps(obj.properties, indent=2))\n",
    "\n",
    "client.close() "
   ]
  },
  {
   "cell_type": "code",
   "execution_count": 75,
   "id": "34985756-d522-4653-aaf4-f87a59fd86f3",
   "metadata": {},
   "outputs": [
    {
     "name": "stdout",
     "output_type": "stream",
     "text": [
      "Changes in the tropospheric layer of this are what gives us weather\n",
      "A metal that is ductile can be pulled into this while cold & under pressure\n"
     ]
    }
   ],
   "source": [
    "for item in response.objects:\n",
    "    print(item.properties['question_text'])"
   ]
  },
  {
   "cell_type": "code",
   "execution_count": 76,
   "id": "8af49af9-9c8f-400c-b274-2c40df57ba4c",
   "metadata": {},
   "outputs": [
    {
     "data": {
      "text/plain": [
       "'Changes in the tropospheric layer of this are what gives us weather A metal that is ductile can be pulled into this while cold & under pressure'"
      ]
     },
     "execution_count": 76,
     "metadata": {},
     "output_type": "execute_result"
    }
   ],
   "source": [
    "\" \".join([item.properties['question_text'] for item in response.objects])"
   ]
  },
  {
   "cell_type": "code",
   "execution_count": 39,
   "id": "0435ca5d-97db-4f2c-954f-2040a9791913",
   "metadata": {
    "scrolled": true
   },
   "outputs": [
    {
     "ename": "WeaviateBatchValidationError",
     "evalue": "Batch validation error: 4 validation errors for BatchObject\nreferences.vector.str\n  Input should be a valid string [type=string_type, input_value=EmbeddingsResponse(embedd..., -0.37761157751083374]), input_type=EmbeddingsResponse]\n    For further information visit https://errors.pydantic.dev/2.10/v/string_type\nreferences.vector.uuid\n  UUID input should be a string, bytes or UUID object [type=uuid_type, input_value=EmbeddingsResponse(embedd..., -0.37761157751083374]), input_type=EmbeddingsResponse]\n    For further information visit https://errors.pydantic.dev/2.10/v/uuid_type\nreferences.vector.json-or-python[json=list[union[str,uuid]],python=chain[is-instance[Sequence],function-wrap[sequence_validator()]]]\n  Input should be an instance of Sequence [type=is_instance_of, input_value=EmbeddingsResponse(embedd..., -0.37761157751083374]), input_type=EmbeddingsResponse]\n    For further information visit https://errors.pydantic.dev/2.10/v/is_instance_of\nreferences.vector.ReferenceToMulti\n  Input should be a valid dictionary or instance of ReferenceToMulti [type=model_type, input_value=EmbeddingsResponse(embedd..., -0.37761157751083374]), input_type=EmbeddingsResponse]\n    For further information visit https://errors.pydantic.dev/2.10/v/model_type",
     "output_type": "error",
     "traceback": [
      "\u001b[0;31m---------------------------------------------------------------------------\u001b[0m",
      "\u001b[0;31mValidationError\u001b[0m                           Traceback (most recent call last)",
      "File \u001b[0;32m~/opt/anaconda3/envs/uoasubject4/lib/python3.10/site-packages/weaviate/collections/batch/base.py:678\u001b[0m, in \u001b[0;36m_BatchBase._add_object\u001b[0;34m(self, collection, properties, references, uuid, vector, tenant)\u001b[0m\n\u001b[1;32m    677\u001b[0m \u001b[38;5;28;01mtry\u001b[39;00m:\n\u001b[0;32m--> 678\u001b[0m     batch_object \u001b[38;5;241m=\u001b[39m \u001b[43mBatchObject\u001b[49m\u001b[43m(\u001b[49m\n\u001b[1;32m    679\u001b[0m \u001b[43m        \u001b[49m\u001b[43mcollection\u001b[49m\u001b[38;5;241;43m=\u001b[39;49m\u001b[43mcollection\u001b[49m\u001b[43m,\u001b[49m\n\u001b[1;32m    680\u001b[0m \u001b[43m        \u001b[49m\u001b[43mproperties\u001b[49m\u001b[38;5;241;43m=\u001b[39;49m\u001b[43mproperties\u001b[49m\u001b[43m,\u001b[49m\n\u001b[1;32m    681\u001b[0m \u001b[43m        \u001b[49m\u001b[43mreferences\u001b[49m\u001b[38;5;241;43m=\u001b[39;49m\u001b[43mreferences\u001b[49m\u001b[43m,\u001b[49m\n\u001b[1;32m    682\u001b[0m \u001b[43m        \u001b[49m\u001b[43muuid\u001b[49m\u001b[38;5;241;43m=\u001b[39;49m\u001b[43muuid\u001b[49m\u001b[43m,\u001b[49m\n\u001b[1;32m    683\u001b[0m \u001b[43m        \u001b[49m\u001b[43mvector\u001b[49m\u001b[38;5;241;43m=\u001b[39;49m\u001b[43mvector\u001b[49m\u001b[43m,\u001b[49m\n\u001b[1;32m    684\u001b[0m \u001b[43m        \u001b[49m\u001b[43mtenant\u001b[49m\u001b[38;5;241;43m=\u001b[39;49m\u001b[43mtenant\u001b[49m\u001b[43m,\u001b[49m\n\u001b[1;32m    685\u001b[0m \u001b[43m        \u001b[49m\u001b[43mindex\u001b[49m\u001b[38;5;241;43m=\u001b[39;49m\u001b[38;5;28;43mself\u001b[39;49m\u001b[38;5;241;43m.\u001b[39;49m\u001b[43m__objs_count\u001b[49m\u001b[43m,\u001b[49m\n\u001b[1;32m    686\u001b[0m \u001b[43m    \u001b[49m\u001b[43m)\u001b[49m\n\u001b[1;32m    687\u001b[0m     \u001b[38;5;28mself\u001b[39m\u001b[38;5;241m.\u001b[39m__objs_count \u001b[38;5;241m+\u001b[39m\u001b[38;5;241m=\u001b[39m \u001b[38;5;241m1\u001b[39m\n",
      "File \u001b[0;32m~/opt/anaconda3/envs/uoasubject4/lib/python3.10/site-packages/weaviate/collections/classes/batch.py:67\u001b[0m, in \u001b[0;36mBatchObject.__init__\u001b[0;34m(self, **data)\u001b[0m\n\u001b[1;32m     64\u001b[0m data[\u001b[38;5;124m\"\u001b[39m\u001b[38;5;124muuid\u001b[39m\u001b[38;5;124m\"\u001b[39m] \u001b[38;5;241m=\u001b[39m (\n\u001b[1;32m     65\u001b[0m     get_valid_uuid(u) \u001b[38;5;28;01mif\u001b[39;00m (u \u001b[38;5;241m:=\u001b[39m data\u001b[38;5;241m.\u001b[39mget(\u001b[38;5;124m\"\u001b[39m\u001b[38;5;124muuid\u001b[39m\u001b[38;5;124m\"\u001b[39m)) \u001b[38;5;129;01mis\u001b[39;00m \u001b[38;5;129;01mnot\u001b[39;00m \u001b[38;5;28;01mNone\u001b[39;00m \u001b[38;5;28;01melse\u001b[39;00m uuid_package\u001b[38;5;241m.\u001b[39muuid4()\n\u001b[1;32m     66\u001b[0m )\n\u001b[0;32m---> 67\u001b[0m \u001b[38;5;28;43msuper\u001b[39;49m\u001b[43m(\u001b[49m\u001b[43m)\u001b[49m\u001b[38;5;241;43m.\u001b[39;49m\u001b[38;5;21;43m__init__\u001b[39;49m\u001b[43m(\u001b[49m\u001b[38;5;241;43m*\u001b[39;49m\u001b[38;5;241;43m*\u001b[39;49m\u001b[43mdata\u001b[49m\u001b[43m)\u001b[49m\n",
      "File \u001b[0;32m~/opt/anaconda3/envs/uoasubject4/lib/python3.10/site-packages/pydantic/main.py:214\u001b[0m, in \u001b[0;36mBaseModel.__init__\u001b[0;34m(self, **data)\u001b[0m\n\u001b[1;32m    213\u001b[0m __tracebackhide__ \u001b[38;5;241m=\u001b[39m \u001b[38;5;28;01mTrue\u001b[39;00m\n\u001b[0;32m--> 214\u001b[0m validated_self \u001b[38;5;241m=\u001b[39m \u001b[38;5;28;43mself\u001b[39;49m\u001b[38;5;241;43m.\u001b[39;49m\u001b[43m__pydantic_validator__\u001b[49m\u001b[38;5;241;43m.\u001b[39;49m\u001b[43mvalidate_python\u001b[49m\u001b[43m(\u001b[49m\u001b[43mdata\u001b[49m\u001b[43m,\u001b[49m\u001b[43m \u001b[49m\u001b[43mself_instance\u001b[49m\u001b[38;5;241;43m=\u001b[39;49m\u001b[38;5;28;43mself\u001b[39;49m\u001b[43m)\u001b[49m\n\u001b[1;32m    215\u001b[0m \u001b[38;5;28;01mif\u001b[39;00m \u001b[38;5;28mself\u001b[39m \u001b[38;5;129;01mis\u001b[39;00m \u001b[38;5;129;01mnot\u001b[39;00m validated_self:\n",
      "\u001b[0;31mValidationError\u001b[0m: 4 validation errors for BatchObject\nreferences.vector.str\n  Input should be a valid string [type=string_type, input_value=EmbeddingsResponse(embedd..., -0.37761157751083374]), input_type=EmbeddingsResponse]\n    For further information visit https://errors.pydantic.dev/2.10/v/string_type\nreferences.vector.uuid\n  UUID input should be a string, bytes or UUID object [type=uuid_type, input_value=EmbeddingsResponse(embedd..., -0.37761157751083374]), input_type=EmbeddingsResponse]\n    For further information visit https://errors.pydantic.dev/2.10/v/uuid_type\nreferences.vector.json-or-python[json=list[union[str,uuid]],python=chain[is-instance[Sequence],function-wrap[sequence_validator()]]]\n  Input should be an instance of Sequence [type=is_instance_of, input_value=EmbeddingsResponse(embedd..., -0.37761157751083374]), input_type=EmbeddingsResponse]\n    For further information visit https://errors.pydantic.dev/2.10/v/is_instance_of\nreferences.vector.ReferenceToMulti\n  Input should be a valid dictionary or instance of ReferenceToMulti [type=model_type, input_value=EmbeddingsResponse(embedd..., -0.37761157751083374]), input_type=EmbeddingsResponse]\n    For further information visit https://errors.pydantic.dev/2.10/v/model_type",
      "\nDuring handling of the above exception, another exception occurred:\n",
      "\u001b[0;31mWeaviateBatchValidationError\u001b[0m              Traceback (most recent call last)",
      "Cell \u001b[0;32mIn[39], line 5\u001b[0m\n\u001b[1;32m      3\u001b[0m \u001b[38;5;28;01mwith\u001b[39;00m questions\u001b[38;5;241m.\u001b[39mbatch\u001b[38;5;241m.\u001b[39mdynamic() \u001b[38;5;28;01mas\u001b[39;00m batch:\n\u001b[1;32m      4\u001b[0m     \u001b[38;5;28;01mfor\u001b[39;00m d \u001b[38;5;129;01min\u001b[39;00m data:\n\u001b[0;32m----> 5\u001b[0m         \u001b[43mbatch\u001b[49m\u001b[38;5;241;43m.\u001b[39;49m\u001b[43madd_object\u001b[49m\u001b[43m(\u001b[49m\u001b[43m{\u001b[49m\n\u001b[1;32m      6\u001b[0m \u001b[43m            \u001b[49m\u001b[38;5;124;43m\"\u001b[39;49m\u001b[38;5;124;43manswer\u001b[39;49m\u001b[38;5;124;43m\"\u001b[39;49m\u001b[43m:\u001b[49m\u001b[43m \u001b[49m\u001b[43md\u001b[49m\u001b[43m[\u001b[49m\u001b[38;5;124;43m\"\u001b[39;49m\u001b[38;5;124;43mAnswer\u001b[39;49m\u001b[38;5;124;43m\"\u001b[39;49m\u001b[43m]\u001b[49m\u001b[43m,\u001b[49m\n\u001b[1;32m      7\u001b[0m \u001b[43m            \u001b[49m\u001b[38;5;124;43m\"\u001b[39;49m\u001b[38;5;124;43mquestion\u001b[39;49m\u001b[38;5;124;43m\"\u001b[39;49m\u001b[43m:\u001b[49m\u001b[43m \u001b[49m\u001b[43md\u001b[49m\u001b[43m[\u001b[49m\u001b[38;5;124;43m\"\u001b[39;49m\u001b[38;5;124;43mQuestion\u001b[39;49m\u001b[38;5;124;43m\"\u001b[39;49m\u001b[43m]\u001b[49m\u001b[43m,\u001b[49m\n\u001b[1;32m      8\u001b[0m \u001b[43m            \u001b[49m\u001b[38;5;124;43m\"\u001b[39;49m\u001b[38;5;124;43mcategory\u001b[39;49m\u001b[38;5;124;43m\"\u001b[39;49m\u001b[43m:\u001b[49m\u001b[43m \u001b[49m\u001b[43md\u001b[49m\u001b[43m[\u001b[49m\u001b[38;5;124;43m\"\u001b[39;49m\u001b[38;5;124;43mCategory\u001b[39;49m\u001b[38;5;124;43m\"\u001b[39;49m\u001b[43m]\u001b[49m\u001b[43m,\u001b[49m\n\u001b[1;32m      9\u001b[0m \u001b[43m            \u001b[49m\n\u001b[1;32m     10\u001b[0m \u001b[43m        \u001b[49m\u001b[43m}\u001b[49m\u001b[43m,\u001b[49m\u001b[43m \u001b[49m\u001b[43m{\u001b[49m\u001b[38;5;124;43m\"\u001b[39;49m\u001b[38;5;124;43mvector\u001b[39;49m\u001b[38;5;124;43m\"\u001b[39;49m\u001b[43m:\u001b[49m\u001b[43m \u001b[49m\u001b[43md\u001b[49m\u001b[43m[\u001b[49m\u001b[38;5;124;43m\"\u001b[39;49m\u001b[38;5;124;43mvector\u001b[39;49m\u001b[38;5;124;43m\"\u001b[39;49m\u001b[43m]\u001b[49m\u001b[43m}\u001b[49m\u001b[43m)\u001b[49m\n\u001b[1;32m     11\u001b[0m         \u001b[38;5;28;01mif\u001b[39;00m batch\u001b[38;5;241m.\u001b[39mnumber_errors \u001b[38;5;241m>\u001b[39m \u001b[38;5;241m10\u001b[39m:\n\u001b[1;32m     12\u001b[0m             \u001b[38;5;28mprint\u001b[39m(\u001b[38;5;124m\"\u001b[39m\u001b[38;5;124mBatch import stopped due to excessive errors.\u001b[39m\u001b[38;5;124m\"\u001b[39m)\n",
      "File \u001b[0;32m~/opt/anaconda3/envs/uoasubject4/lib/python3.10/site-packages/weaviate/collections/batch/collection.py:81\u001b[0m, in \u001b[0;36m_BatchCollection.add_object\u001b[0;34m(self, properties, references, uuid, vector)\u001b[0m\n\u001b[1;32m     47\u001b[0m \u001b[38;5;28;01mdef\u001b[39;00m\u001b[38;5;250m \u001b[39m\u001b[38;5;21madd_object\u001b[39m(\n\u001b[1;32m     48\u001b[0m     \u001b[38;5;28mself\u001b[39m,\n\u001b[1;32m     49\u001b[0m     properties: Optional[Properties] \u001b[38;5;241m=\u001b[39m \u001b[38;5;28;01mNone\u001b[39;00m,\n\u001b[0;32m   (...)\u001b[0m\n\u001b[1;32m     52\u001b[0m     vector: Optional[VECTORS] \u001b[38;5;241m=\u001b[39m \u001b[38;5;28;01mNone\u001b[39;00m,\n\u001b[1;32m     53\u001b[0m ) \u001b[38;5;241m-\u001b[39m\u001b[38;5;241m>\u001b[39m UUID:\n\u001b[1;32m     54\u001b[0m \u001b[38;5;250m    \u001b[39m\u001b[38;5;124;03m\"\"\"Add one object to this batch.\u001b[39;00m\n\u001b[1;32m     55\u001b[0m \n\u001b[1;32m     56\u001b[0m \u001b[38;5;124;03m    NOTE: If the UUID of one of the objects already exists then the existing object will be replaced by the new object.\u001b[39;00m\n\u001b[0;32m   (...)\u001b[0m\n\u001b[1;32m     79\u001b[0m \u001b[38;5;124;03m            If the provided options are in the format required by Weaviate.\u001b[39;00m\n\u001b[1;32m     80\u001b[0m \u001b[38;5;124;03m    \"\"\"\u001b[39;00m\n\u001b[0;32m---> 81\u001b[0m     \u001b[38;5;28;01mreturn\u001b[39;00m \u001b[38;5;28;43mself\u001b[39;49m\u001b[38;5;241;43m.\u001b[39;49m\u001b[43m_add_object\u001b[49m\u001b[43m(\u001b[49m\n\u001b[1;32m     82\u001b[0m \u001b[43m        \u001b[49m\u001b[43mcollection\u001b[49m\u001b[38;5;241;43m=\u001b[39;49m\u001b[38;5;28;43mself\u001b[39;49m\u001b[38;5;241;43m.\u001b[39;49m\u001b[43m__name\u001b[49m\u001b[43m,\u001b[49m\n\u001b[1;32m     83\u001b[0m \u001b[43m        \u001b[49m\u001b[43mproperties\u001b[49m\u001b[38;5;241;43m=\u001b[39;49m\u001b[43mproperties\u001b[49m\u001b[43m,\u001b[49m\n\u001b[1;32m     84\u001b[0m \u001b[43m        \u001b[49m\u001b[43mreferences\u001b[49m\u001b[38;5;241;43m=\u001b[39;49m\u001b[43mreferences\u001b[49m\u001b[43m,\u001b[49m\n\u001b[1;32m     85\u001b[0m \u001b[43m        \u001b[49m\u001b[43muuid\u001b[49m\u001b[38;5;241;43m=\u001b[39;49m\u001b[43muuid\u001b[49m\u001b[43m,\u001b[49m\n\u001b[1;32m     86\u001b[0m \u001b[43m        \u001b[49m\u001b[43mvector\u001b[49m\u001b[38;5;241;43m=\u001b[39;49m\u001b[43mvector\u001b[49m\u001b[43m,\u001b[49m\n\u001b[1;32m     87\u001b[0m \u001b[43m        \u001b[49m\u001b[43mtenant\u001b[49m\u001b[38;5;241;43m=\u001b[39;49m\u001b[38;5;28;43mself\u001b[39;49m\u001b[38;5;241;43m.\u001b[39;49m\u001b[43m__tenant\u001b[49m\u001b[43m,\u001b[49m\n\u001b[1;32m     88\u001b[0m \u001b[43m    \u001b[49m\u001b[43m)\u001b[49m\n",
      "File \u001b[0;32m~/opt/anaconda3/envs/uoasubject4/lib/python3.10/site-packages/weaviate/collections/batch/base.py:692\u001b[0m, in \u001b[0;36m_BatchBase._add_object\u001b[0;34m(self, collection, properties, references, uuid, vector, tenant)\u001b[0m\n\u001b[1;32m    688\u001b[0m     \u001b[38;5;28mself\u001b[39m\u001b[38;5;241m.\u001b[39m__results_for_wrapper\u001b[38;5;241m.\u001b[39mimported_shards\u001b[38;5;241m.\u001b[39madd(\n\u001b[1;32m    689\u001b[0m         Shard(collection\u001b[38;5;241m=\u001b[39mcollection, tenant\u001b[38;5;241m=\u001b[39mtenant)\n\u001b[1;32m    690\u001b[0m     )\n\u001b[1;32m    691\u001b[0m \u001b[38;5;28;01mexcept\u001b[39;00m ValidationError \u001b[38;5;28;01mas\u001b[39;00m e:\n\u001b[0;32m--> 692\u001b[0m     \u001b[38;5;28;01mraise\u001b[39;00m WeaviateBatchValidationError(\u001b[38;5;28mrepr\u001b[39m(e))\n\u001b[1;32m    693\u001b[0m \u001b[38;5;28mself\u001b[39m\u001b[38;5;241m.\u001b[39m__uuid_lookup\u001b[38;5;241m.\u001b[39madd(\u001b[38;5;28mstr\u001b[39m(batch_object\u001b[38;5;241m.\u001b[39muuid))\n\u001b[1;32m    694\u001b[0m \u001b[38;5;28mself\u001b[39m\u001b[38;5;241m.\u001b[39m__batch_objects\u001b[38;5;241m.\u001b[39madd(batch_object\u001b[38;5;241m.\u001b[39m_to_internal())\n",
      "\u001b[0;31mWeaviateBatchValidationError\u001b[0m: Batch validation error: 4 validation errors for BatchObject\nreferences.vector.str\n  Input should be a valid string [type=string_type, input_value=EmbeddingsResponse(embedd..., -0.37761157751083374]), input_type=EmbeddingsResponse]\n    For further information visit https://errors.pydantic.dev/2.10/v/string_type\nreferences.vector.uuid\n  UUID input should be a string, bytes or UUID object [type=uuid_type, input_value=EmbeddingsResponse(embedd..., -0.37761157751083374]), input_type=EmbeddingsResponse]\n    For further information visit https://errors.pydantic.dev/2.10/v/uuid_type\nreferences.vector.json-or-python[json=list[union[str,uuid]],python=chain[is-instance[Sequence],function-wrap[sequence_validator()]]]\n  Input should be an instance of Sequence [type=is_instance_of, input_value=EmbeddingsResponse(embedd..., -0.37761157751083374]), input_type=EmbeddingsResponse]\n    For further information visit https://errors.pydantic.dev/2.10/v/is_instance_of\nreferences.vector.ReferenceToMulti\n  Input should be a valid dictionary or instance of ReferenceToMulti [type=model_type, input_value=EmbeddingsResponse(embedd..., -0.37761157751083374]), input_type=EmbeddingsResponse]\n    For further information visit https://errors.pydantic.dev/2.10/v/model_type"
     ]
    }
   ],
   "source": [
    "#questions = client.collections.get(\"Question\")\n",
    "\n",
    "with questions.batch.dynamic() as batch:\n",
    "    for d in data:\n",
    "        batch.add_object({\n",
    "            \"answer\": d[\"Answer\"],\n",
    "            \"question\": d[\"Question\"],\n",
    "            \"category\": d[\"Category\"],\n",
    "            \n",
    "        }, {\"vector\": d[\"vector\"]})\n",
    "        if batch.number_errors > 10:\n",
    "            print(\"Batch import stopped due to excessive errors.\")\n",
    "            break\n",
    "\n",
    "failed_objects = questions.batch.failed_objects\n",
    "if failed_objects:\n",
    "    print(f\"Number of failed imports: {len(failed_objects)}\")\n",
    "    print(f\"First failed object: {failed_objects[0]}\")"
   ]
  },
  {
   "cell_type": "code",
   "execution_count": 50,
   "id": "e6658e85-ed32-4985-851b-98116e6b6cbd",
   "metadata": {
    "scrolled": true
   },
   "outputs": [
    {
     "ename": "WeaviateQueryError",
     "evalue": "Query call with protocol GRPC search failed with message <AioRpcError of RPC that terminated with:\n\tstatus = StatusCode.UNKNOWN\n\tdetails = \"explorer: get class: vectorize params: could not vectorize input for collection Questions with search-type nearText. Make sure a vectorizer module is configured for this collection\"\n\tdebug_error_string = \"UNKNOWN:Error received from peer  {created_time:\"2025-02-24T01:14:56.508045+04:00\", grpc_status:2, grpc_message:\"explorer: get class: vectorize params: could not vectorize input for collection Questions with search-type nearText. Make sure a vectorizer module is configured for this collection\"}\"\n>.",
     "output_type": "error",
     "traceback": [
      "\u001b[0;31m---------------------------------------------------------------------------\u001b[0m",
      "\u001b[0;31mAioRpcError\u001b[0m                               Traceback (most recent call last)",
      "File \u001b[0;32m~/opt/anaconda3/envs/uoasubject4/lib/python3.10/site-packages/weaviate/collections/grpc/query.py:478\u001b[0m, in \u001b[0;36m_QueryGRPC.__call\u001b[0;34m(self, request)\u001b[0m\n\u001b[1;32m    477\u001b[0m \u001b[38;5;28;01massert\u001b[39;00m \u001b[38;5;28mself\u001b[39m\u001b[38;5;241m.\u001b[39m_connection\u001b[38;5;241m.\u001b[39mgrpc_stub \u001b[38;5;129;01mis\u001b[39;00m \u001b[38;5;129;01mnot\u001b[39;00m \u001b[38;5;28;01mNone\u001b[39;00m\n\u001b[0;32m--> 478\u001b[0m res \u001b[38;5;241m=\u001b[39m \u001b[38;5;28;01mawait\u001b[39;00m _Retry(\u001b[38;5;241m4\u001b[39m)\u001b[38;5;241m.\u001b[39mwith_exponential_backoff(\n\u001b[1;32m    479\u001b[0m     \u001b[38;5;241m0\u001b[39m,\n\u001b[1;32m    480\u001b[0m     \u001b[38;5;124mf\u001b[39m\u001b[38;5;124m\"\u001b[39m\u001b[38;5;124mSearching in collection \u001b[39m\u001b[38;5;132;01m{\u001b[39;00mrequest\u001b[38;5;241m.\u001b[39mcollection\u001b[38;5;132;01m}\u001b[39;00m\u001b[38;5;124m\"\u001b[39m,\n\u001b[1;32m    481\u001b[0m     \u001b[38;5;28mself\u001b[39m\u001b[38;5;241m.\u001b[39m_connection\u001b[38;5;241m.\u001b[39mgrpc_stub\u001b[38;5;241m.\u001b[39mSearch,\n\u001b[1;32m    482\u001b[0m     request,\n\u001b[1;32m    483\u001b[0m     metadata\u001b[38;5;241m=\u001b[39m\u001b[38;5;28mself\u001b[39m\u001b[38;5;241m.\u001b[39m_connection\u001b[38;5;241m.\u001b[39mgrpc_headers(),\n\u001b[1;32m    484\u001b[0m     timeout\u001b[38;5;241m=\u001b[39m\u001b[38;5;28mself\u001b[39m\u001b[38;5;241m.\u001b[39m_connection\u001b[38;5;241m.\u001b[39mtimeout_config\u001b[38;5;241m.\u001b[39mquery,\n\u001b[1;32m    485\u001b[0m )\n\u001b[1;32m    486\u001b[0m \u001b[38;5;28;01mreturn\u001b[39;00m cast(search_get_pb2\u001b[38;5;241m.\u001b[39mSearchReply, res)\n",
      "File \u001b[0;32m~/opt/anaconda3/envs/uoasubject4/lib/python3.10/site-packages/weaviate/collections/grpc/retry.py:31\u001b[0m, in \u001b[0;36m_Retry.with_exponential_backoff\u001b[0;34m(self, count, error, f, *args, **kwargs)\u001b[0m\n\u001b[1;32m     30\u001b[0m \u001b[38;5;28;01mif\u001b[39;00m e\u001b[38;5;241m.\u001b[39mcode() \u001b[38;5;241m!=\u001b[39m StatusCode\u001b[38;5;241m.\u001b[39mUNAVAILABLE:\n\u001b[0;32m---> 31\u001b[0m     \u001b[38;5;28;01mraise\u001b[39;00m e\n\u001b[1;32m     32\u001b[0m logger\u001b[38;5;241m.\u001b[39minfo(\n\u001b[1;32m     33\u001b[0m     \u001b[38;5;124mf\u001b[39m\u001b[38;5;124m\"\u001b[39m\u001b[38;5;132;01m{\u001b[39;00merror\u001b[38;5;132;01m}\u001b[39;00m\u001b[38;5;124m received exception: \u001b[39m\u001b[38;5;132;01m{\u001b[39;00me\u001b[38;5;132;01m}\u001b[39;00m\u001b[38;5;124m. Retrying with exponential backoff in \u001b[39m\u001b[38;5;132;01m{\u001b[39;00m\u001b[38;5;241m2\u001b[39m\u001b[38;5;241m*\u001b[39m\u001b[38;5;241m*\u001b[39mcount\u001b[38;5;132;01m}\u001b[39;00m\u001b[38;5;124m seconds\u001b[39m\u001b[38;5;124m\"\u001b[39m\n\u001b[1;32m     34\u001b[0m )\n",
      "File \u001b[0;32m~/opt/anaconda3/envs/uoasubject4/lib/python3.10/site-packages/weaviate/collections/grpc/retry.py:28\u001b[0m, in \u001b[0;36m_Retry.with_exponential_backoff\u001b[0;34m(self, count, error, f, *args, **kwargs)\u001b[0m\n\u001b[1;32m     27\u001b[0m \u001b[38;5;28;01mtry\u001b[39;00m:\n\u001b[0;32m---> 28\u001b[0m     \u001b[38;5;28;01mreturn\u001b[39;00m \u001b[38;5;28;01mawait\u001b[39;00m f(\u001b[38;5;241m*\u001b[39margs, \u001b[38;5;241m*\u001b[39m\u001b[38;5;241m*\u001b[39mkwargs)\n\u001b[1;32m     29\u001b[0m \u001b[38;5;28;01mexcept\u001b[39;00m AioRpcError \u001b[38;5;28;01mas\u001b[39;00m e:\n",
      "File \u001b[0;32m~/opt/anaconda3/envs/uoasubject4/lib/python3.10/site-packages/grpc/aio/_call.py:327\u001b[0m, in \u001b[0;36m_UnaryResponseMixin.__await__\u001b[0;34m(self)\u001b[0m\n\u001b[1;32m    326\u001b[0m     \u001b[38;5;28;01melse\u001b[39;00m:\n\u001b[0;32m--> 327\u001b[0m         \u001b[38;5;28;01mraise\u001b[39;00m _create_rpc_error(\n\u001b[1;32m    328\u001b[0m             \u001b[38;5;28mself\u001b[39m\u001b[38;5;241m.\u001b[39m_cython_call\u001b[38;5;241m.\u001b[39m_initial_metadata,\n\u001b[1;32m    329\u001b[0m             \u001b[38;5;28mself\u001b[39m\u001b[38;5;241m.\u001b[39m_cython_call\u001b[38;5;241m.\u001b[39m_status,\n\u001b[1;32m    330\u001b[0m         )\n\u001b[1;32m    331\u001b[0m \u001b[38;5;28;01melse\u001b[39;00m:\n",
      "\u001b[0;31mAioRpcError\u001b[0m: <AioRpcError of RPC that terminated with:\n\tstatus = StatusCode.UNKNOWN\n\tdetails = \"explorer: get class: vectorize params: could not vectorize input for collection Questions with search-type nearText. Make sure a vectorizer module is configured for this collection\"\n\tdebug_error_string = \"UNKNOWN:Error received from peer  {created_time:\"2025-02-24T01:14:56.508045+04:00\", grpc_status:2, grpc_message:\"explorer: get class: vectorize params: could not vectorize input for collection Questions with search-type nearText. Make sure a vectorizer module is configured for this collection\"}\"\n>",
      "\nDuring handling of the above exception, another exception occurred:\n",
      "\u001b[0;31mWeaviateQueryError\u001b[0m                        Traceback (most recent call last)",
      "Cell \u001b[0;32mIn[50], line 3\u001b[0m\n\u001b[1;32m      1\u001b[0m \u001b[38;5;66;03m#questions = client.collections.get(\"Question\")\u001b[39;00m\n\u001b[0;32m----> 3\u001b[0m response \u001b[38;5;241m=\u001b[39m \u001b[43mquestions\u001b[49m\u001b[38;5;241;43m.\u001b[39;49m\u001b[43mquery\u001b[49m\u001b[38;5;241;43m.\u001b[39;49m\u001b[43mnear_text\u001b[49m\u001b[43m(\u001b[49m\n\u001b[1;32m      4\u001b[0m \u001b[43m    \u001b[49m\u001b[43mquery\u001b[49m\u001b[38;5;241;43m=\u001b[39;49m\u001b[38;5;124;43m\"\u001b[39;49m\u001b[38;5;124;43mbiology\u001b[39;49m\u001b[38;5;124;43m\"\u001b[39;49m\u001b[43m,\u001b[49m\n\u001b[1;32m      5\u001b[0m \u001b[43m    \u001b[49m\u001b[43mlimit\u001b[49m\u001b[38;5;241;43m=\u001b[39;49m\u001b[38;5;241;43m2\u001b[39;49m\n\u001b[1;32m      6\u001b[0m \u001b[43m)\u001b[49m\n",
      "File \u001b[0;32m~/opt/anaconda3/envs/uoasubject4/lib/python3.10/site-packages/weaviate/syncify.py:23\u001b[0m, in \u001b[0;36mconvert.<locals>.sync_method\u001b[0;34m(self, __new_name, *args, **kwargs)\u001b[0m\n\u001b[1;32m     20\u001b[0m \u001b[38;5;129m@wraps\u001b[39m(method)  \u001b[38;5;66;03m# type: ignore\u001b[39;00m\n\u001b[1;32m     21\u001b[0m \u001b[38;5;28;01mdef\u001b[39;00m\u001b[38;5;250m \u001b[39m\u001b[38;5;21msync_method\u001b[39m(\u001b[38;5;28mself\u001b[39m, \u001b[38;5;241m*\u001b[39margs, __new_name\u001b[38;5;241m=\u001b[39mnew_name, \u001b[38;5;241m*\u001b[39m\u001b[38;5;241m*\u001b[39mkwargs):\n\u001b[1;32m     22\u001b[0m     async_func \u001b[38;5;241m=\u001b[39m \u001b[38;5;28mgetattr\u001b[39m(\u001b[38;5;28mcls\u001b[39m, __new_name)\n\u001b[0;32m---> 23\u001b[0m     \u001b[38;5;28;01mreturn\u001b[39;00m \u001b[43m_EventLoopSingleton\u001b[49m\u001b[38;5;241;43m.\u001b[39;49m\u001b[43mget_instance\u001b[49m\u001b[43m(\u001b[49m\u001b[43m)\u001b[49m\u001b[38;5;241;43m.\u001b[39;49m\u001b[43mrun_until_complete\u001b[49m\u001b[43m(\u001b[49m\n\u001b[1;32m     24\u001b[0m \u001b[43m        \u001b[49m\u001b[43masync_func\u001b[49m\u001b[43m,\u001b[49m\u001b[43m \u001b[49m\u001b[38;5;28;43mself\u001b[39;49m\u001b[43m,\u001b[49m\u001b[43m \u001b[49m\u001b[38;5;241;43m*\u001b[39;49m\u001b[43margs\u001b[49m\u001b[43m,\u001b[49m\u001b[43m \u001b[49m\u001b[38;5;241;43m*\u001b[39;49m\u001b[38;5;241;43m*\u001b[39;49m\u001b[43mkwargs\u001b[49m\n\u001b[1;32m     25\u001b[0m \u001b[43m    \u001b[49m\u001b[43m)\u001b[49m\n",
      "File \u001b[0;32m~/opt/anaconda3/envs/uoasubject4/lib/python3.10/site-packages/weaviate/event_loop.py:42\u001b[0m, in \u001b[0;36m_EventLoop.run_until_complete\u001b[0;34m(self, f, *args, **kwargs)\u001b[0m\n\u001b[1;32m     40\u001b[0m     \u001b[38;5;28;01mraise\u001b[39;00m WeaviateClosedClientError()\n\u001b[1;32m     41\u001b[0m fut \u001b[38;5;241m=\u001b[39m asyncio\u001b[38;5;241m.\u001b[39mrun_coroutine_threadsafe(f(\u001b[38;5;241m*\u001b[39margs, \u001b[38;5;241m*\u001b[39m\u001b[38;5;241m*\u001b[39mkwargs), \u001b[38;5;28mself\u001b[39m\u001b[38;5;241m.\u001b[39mloop)\n\u001b[0;32m---> 42\u001b[0m \u001b[38;5;28;01mreturn\u001b[39;00m \u001b[43mfut\u001b[49m\u001b[38;5;241;43m.\u001b[39;49m\u001b[43mresult\u001b[49m\u001b[43m(\u001b[49m\u001b[43m)\u001b[49m\n",
      "File \u001b[0;32m~/opt/anaconda3/envs/uoasubject4/lib/python3.10/concurrent/futures/_base.py:445\u001b[0m, in \u001b[0;36mFuture.result\u001b[0;34m(self, timeout)\u001b[0m\n\u001b[1;32m    443\u001b[0m     \u001b[38;5;28;01mraise\u001b[39;00m CancelledError()\n\u001b[1;32m    444\u001b[0m \u001b[38;5;28;01melif\u001b[39;00m \u001b[38;5;28mself\u001b[39m\u001b[38;5;241m.\u001b[39m_state \u001b[38;5;241m==\u001b[39m FINISHED:\n\u001b[0;32m--> 445\u001b[0m     \u001b[38;5;28;01mreturn\u001b[39;00m \u001b[38;5;28;43mself\u001b[39;49m\u001b[38;5;241;43m.\u001b[39;49m\u001b[43m__get_result\u001b[49m\u001b[43m(\u001b[49m\u001b[43m)\u001b[49m\n\u001b[1;32m    446\u001b[0m \u001b[38;5;28;01melse\u001b[39;00m:\n\u001b[1;32m    447\u001b[0m     \u001b[38;5;28;01mraise\u001b[39;00m \u001b[38;5;167;01mTimeoutError\u001b[39;00m()\n",
      "File \u001b[0;32m~/opt/anaconda3/envs/uoasubject4/lib/python3.10/concurrent/futures/_base.py:390\u001b[0m, in \u001b[0;36mFuture.__get_result\u001b[0;34m(self)\u001b[0m\n\u001b[1;32m    388\u001b[0m \u001b[38;5;28;01mif\u001b[39;00m \u001b[38;5;28mself\u001b[39m\u001b[38;5;241m.\u001b[39m_exception:\n\u001b[1;32m    389\u001b[0m     \u001b[38;5;28;01mtry\u001b[39;00m:\n\u001b[0;32m--> 390\u001b[0m         \u001b[38;5;28;01mraise\u001b[39;00m \u001b[38;5;28mself\u001b[39m\u001b[38;5;241m.\u001b[39m_exception\n\u001b[1;32m    391\u001b[0m     \u001b[38;5;28;01mfinally\u001b[39;00m:\n\u001b[1;32m    392\u001b[0m         \u001b[38;5;66;03m# Break a reference cycle with the exception in self._exception\u001b[39;00m\n\u001b[1;32m    393\u001b[0m         \u001b[38;5;28mself\u001b[39m \u001b[38;5;241m=\u001b[39m \u001b[38;5;28;01mNone\u001b[39;00m\n",
      "File \u001b[0;32m~/opt/anaconda3/envs/uoasubject4/lib/python3.10/site-packages/weaviate/collections/queries/near_text/query.py:97\u001b[0m, in \u001b[0;36m_NearTextQueryAsync.near_text\u001b[0;34m(self, query, certainty, distance, move_to, move_away, limit, offset, auto_limit, filters, group_by, rerank, target_vector, include_vector, return_metadata, return_properties, return_references)\u001b[0m\n\u001b[1;32m     27\u001b[0m \u001b[38;5;28;01masync\u001b[39;00m \u001b[38;5;28;01mdef\u001b[39;00m\u001b[38;5;250m \u001b[39m\u001b[38;5;21mnear_text\u001b[39m(\n\u001b[1;32m     28\u001b[0m     \u001b[38;5;28mself\u001b[39m,\n\u001b[1;32m     29\u001b[0m     query: Union[List[\u001b[38;5;28mstr\u001b[39m], \u001b[38;5;28mstr\u001b[39m],\n\u001b[0;32m   (...)\u001b[0m\n\u001b[1;32m     45\u001b[0m     return_references: Optional[ReturnReferences[TReferences]] \u001b[38;5;241m=\u001b[39m \u001b[38;5;28;01mNone\u001b[39;00m,\n\u001b[1;32m     46\u001b[0m ) \u001b[38;5;241m-\u001b[39m\u001b[38;5;241m>\u001b[39m QuerySearchReturnType[Properties, References, TProperties, TReferences]:\n\u001b[1;32m     47\u001b[0m \u001b[38;5;250m    \u001b[39m\u001b[38;5;124;03m\"\"\"Search for objects in this collection by text using text-capable vectorization module and vector-based similarity search.\u001b[39;00m\n\u001b[1;32m     48\u001b[0m \n\u001b[1;32m     49\u001b[0m \u001b[38;5;124;03m    See the [docs](https://weaviate.io/developers/weaviate/api/graphql/search-operators#neartext) for a more detailed explanation.\u001b[39;00m\n\u001b[0;32m   (...)\u001b[0m\n\u001b[1;32m     95\u001b[0m \u001b[38;5;124;03m            If the request to the Weaviate server fails.\u001b[39;00m\n\u001b[1;32m     96\u001b[0m \u001b[38;5;124;03m    \"\"\"\u001b[39;00m\n\u001b[0;32m---> 97\u001b[0m     res \u001b[38;5;241m=\u001b[39m \u001b[38;5;28;01mawait\u001b[39;00m \u001b[38;5;28mself\u001b[39m\u001b[38;5;241m.\u001b[39m_query\u001b[38;5;241m.\u001b[39mnear_text(\n\u001b[1;32m     98\u001b[0m         near_text\u001b[38;5;241m=\u001b[39mquery,\n\u001b[1;32m     99\u001b[0m         certainty\u001b[38;5;241m=\u001b[39mcertainty,\n\u001b[1;32m    100\u001b[0m         distance\u001b[38;5;241m=\u001b[39mdistance,\n\u001b[1;32m    101\u001b[0m         move_to\u001b[38;5;241m=\u001b[39mmove_to,\n\u001b[1;32m    102\u001b[0m         move_away\u001b[38;5;241m=\u001b[39mmove_away,\n\u001b[1;32m    103\u001b[0m         limit\u001b[38;5;241m=\u001b[39mlimit,\n\u001b[1;32m    104\u001b[0m         offset\u001b[38;5;241m=\u001b[39moffset,\n\u001b[1;32m    105\u001b[0m         autocut\u001b[38;5;241m=\u001b[39mauto_limit,\n\u001b[1;32m    106\u001b[0m         filters\u001b[38;5;241m=\u001b[39mfilters,\n\u001b[1;32m    107\u001b[0m         target_vector\u001b[38;5;241m=\u001b[39mtarget_vector,\n\u001b[1;32m    108\u001b[0m         group_by\u001b[38;5;241m=\u001b[39m_GroupBy\u001b[38;5;241m.\u001b[39mfrom_input(group_by),\n\u001b[1;32m    109\u001b[0m         rerank\u001b[38;5;241m=\u001b[39mrerank,\n\u001b[1;32m    110\u001b[0m         return_metadata\u001b[38;5;241m=\u001b[39m\u001b[38;5;28mself\u001b[39m\u001b[38;5;241m.\u001b[39m_parse_return_metadata(return_metadata, include_vector),\n\u001b[1;32m    111\u001b[0m         return_properties\u001b[38;5;241m=\u001b[39m\u001b[38;5;28mself\u001b[39m\u001b[38;5;241m.\u001b[39m_parse_return_properties(return_properties),\n\u001b[1;32m    112\u001b[0m         return_references\u001b[38;5;241m=\u001b[39m\u001b[38;5;28mself\u001b[39m\u001b[38;5;241m.\u001b[39m_parse_return_references(return_references),\n\u001b[1;32m    113\u001b[0m     )\n\u001b[1;32m    114\u001b[0m     \u001b[38;5;28;01mreturn\u001b[39;00m \u001b[38;5;28mself\u001b[39m\u001b[38;5;241m.\u001b[39m_result_to_query_or_groupby_return(\n\u001b[1;32m    115\u001b[0m         res,\n\u001b[1;32m    116\u001b[0m         _QueryOptions\u001b[38;5;241m.\u001b[39mfrom_input(\n\u001b[0;32m   (...)\u001b[0m\n\u001b[1;32m    126\u001b[0m         return_references,\n\u001b[1;32m    127\u001b[0m     )\n",
      "File \u001b[0;32m~/opt/anaconda3/envs/uoasubject4/lib/python3.10/site-packages/weaviate/collections/grpc/query.py:490\u001b[0m, in \u001b[0;36m_QueryGRPC.__call\u001b[0;34m(self, request)\u001b[0m\n\u001b[1;32m    488\u001b[0m     \u001b[38;5;28;01mif\u001b[39;00m e\u001b[38;5;241m.\u001b[39mcode()\u001b[38;5;241m.\u001b[39mname \u001b[38;5;241m==\u001b[39m PERMISSION_DENIED:\n\u001b[1;32m    489\u001b[0m         \u001b[38;5;28;01mraise\u001b[39;00m InsufficientPermissionsError(e)\n\u001b[0;32m--> 490\u001b[0m     \u001b[38;5;28;01mraise\u001b[39;00m WeaviateQueryError(\u001b[38;5;28mstr\u001b[39m(e), \u001b[38;5;124m\"\u001b[39m\u001b[38;5;124mGRPC search\u001b[39m\u001b[38;5;124m\"\u001b[39m)  \u001b[38;5;66;03m# pyright: ignore\u001b[39;00m\n\u001b[1;32m    491\u001b[0m \u001b[38;5;28;01mexcept\u001b[39;00m WeaviateRetryError \u001b[38;5;28;01mas\u001b[39;00m e:\n\u001b[1;32m    492\u001b[0m     \u001b[38;5;28;01mraise\u001b[39;00m WeaviateQueryError(\u001b[38;5;28mstr\u001b[39m(e), \u001b[38;5;124m\"\u001b[39m\u001b[38;5;124mGRPC search\u001b[39m\u001b[38;5;124m\"\u001b[39m)\n",
      "\u001b[0;31mWeaviateQueryError\u001b[0m: Query call with protocol GRPC search failed with message <AioRpcError of RPC that terminated with:\n\tstatus = StatusCode.UNKNOWN\n\tdetails = \"explorer: get class: vectorize params: could not vectorize input for collection Questions with search-type nearText. Make sure a vectorizer module is configured for this collection\"\n\tdebug_error_string = \"UNKNOWN:Error received from peer  {created_time:\"2025-02-24T01:14:56.508045+04:00\", grpc_status:2, grpc_message:\"explorer: get class: vectorize params: could not vectorize input for collection Questions with search-type nearText. Make sure a vectorizer module is configured for this collection\"}\"\n>."
     ]
    }
   ],
   "source": [
    "#questions = client.collections.get(\"Question\")\n",
    "\n",
    "response = questions.query.near_text(\n",
    "    query=\"biology\",\n",
    "    limit=2\n",
    ")"
   ]
  },
  {
   "cell_type": "code",
   "execution_count": null,
   "id": "84a79827-0c45-4f5e-9d0e-b10ae3f3315e",
   "metadata": {},
   "outputs": [],
   "source": [
    "client.close()"
   ]
  },
  {
   "cell_type": "code",
   "execution_count": null,
   "id": "a77714d7-a8a3-48d0-ab52-1872df48822d",
   "metadata": {},
   "outputs": [],
   "source": []
  }
 ],
 "metadata": {
  "kernelspec": {
   "display_name": "Python 3 (ipykernel)",
   "language": "python",
   "name": "python3"
  },
  "language_info": {
   "codemirror_mode": {
    "name": "ipython",
    "version": 3
   },
   "file_extension": ".py",
   "mimetype": "text/x-python",
   "name": "python",
   "nbconvert_exporter": "python",
   "pygments_lexer": "ipython3",
   "version": "3.10.0"
  }
 },
 "nbformat": 4,
 "nbformat_minor": 5
}
